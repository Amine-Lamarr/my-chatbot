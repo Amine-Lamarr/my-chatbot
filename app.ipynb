{
 "cells": [
  {
   "cell_type": "code",
   "execution_count": 46,
   "id": "57ad6125",
   "metadata": {},
   "outputs": [],
   "source": [
    "from langchain.vectorstores import FAISS\n",
    "from langchain.embeddings import HuggingFaceBgeEmbeddings\n",
    "from langchain.text_splitter import CharacterTextSplitter\n",
    "from langchain.chains import RetrievalQA\n",
    "from openai import OpenAI\n",
    "from langchain.chat_models import ChatOpenAI\n",
    "from langchain.chains import RetrievalQA"
   ]
  },
  {
   "cell_type": "code",
   "execution_count": null,
   "id": "714f3e7d",
   "metadata": {},
   "outputs": [],
   "source": [
    "api_key = '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'\n",
    "client = OpenAI(\n",
    "  base_url=\"https://openrouter.ai/api/v1\",  \n",
    "  api_key=api_key,           \n",
    ")"
   ]
  },
  {
   "cell_type": "code",
   "execution_count": 21,
   "id": "1e2550bf",
   "metadata": {},
   "outputs": [],
   "source": [
    "completion = client.chat.completions.create(\n",
    "  model=\"deepseek/deepseek-chat-v3.1:free\", \n",
    "  messages=[\n",
    "    {\"role\": \"user\", \"content\": \"answer in one word, what is the capital of morocco\"}\n",
    "  ]\n",
    ")"
   ]
  },
  {
   "cell_type": "code",
   "execution_count": 22,
   "id": "a8a2a501",
   "metadata": {},
   "outputs": [
    {
     "name": "stdout",
     "output_type": "stream",
     "text": [
      "Rabat\n"
     ]
    }
   ],
   "source": [
    "print(completion.choices[0].message.content)"
   ]
  },
  {
   "cell_type": "code",
   "execution_count": 25,
   "id": "b6c39588",
   "metadata": {},
   "outputs": [
    {
     "name": "stdout",
     "output_type": "stream",
     "text": [
      "[Website Info]\n",
      "Hey, I’m Amine from Morocco, and I created this website to detect Moroccan money, inc\n"
     ]
    }
   ],
   "source": [
    "with open(\"amine_website_data.txt\", \"r\" , encoding=\"utf-8\") as f:\n",
    "    raw_text = f.read()\n",
    "print(raw_text[:100])    "
   ]
  },
  {
   "cell_type": "code",
   "execution_count": 29,
   "id": "044112ea",
   "metadata": {},
   "outputs": [
    {
     "name": "stdout",
     "output_type": "stream",
     "text": [
      "[423, 278, 431, 409, 425, 464, 473, 460, 216, 496, 420, 421, 447, 392, 380, 145]\n"
     ]
    }
   ],
   "source": [
    "text_splitter = CharacterTextSplitter(\n",
    "    separator=\"\\n\\n\", \n",
    "    chunk_size= 500, \n",
    "    chunk_overlap = 50, \n",
    ")\n",
    "texts = text_splitter.split_text(raw_text)\n",
    "lens = []\n",
    "for chunk in range(len(texts)):\n",
    "    lens.append(len(texts[chunk]))\n",
    "print(lens)    "
   ]
  },
  {
   "cell_type": "code",
   "execution_count": 30,
   "id": "634761f9",
   "metadata": {},
   "outputs": [],
   "source": [
    "embeddings = HuggingFaceBgeEmbeddings(model_name=\"sentence-transformers/all-MiniLM-L6-v2\")\n",
    "vectorstore = FAISS.from_texts(texts, embeddings)"
   ]
  },
  {
   "cell_type": "code",
   "execution_count": 47,
   "id": "50a4f122",
   "metadata": {},
   "outputs": [],
   "source": [
    "llm = ChatOpenAI(\n",
    "    model_name=\"deepseek/deepseek-chat-v3.1:free\",\n",
    "    openai_api_base=\"https://openrouter.ai/api/v1\",\n",
    "    openai_api_key=api_key,\n",
    "    temperature=0.5\n",
    ")"
   ]
  },
  {
   "cell_type": "code",
   "execution_count": 48,
   "id": "91d3eeee",
   "metadata": {},
   "outputs": [],
   "source": [
    "retriever = vectorstore.as_retriever()\n",
    "rag_chain = RetrievalQA.from_chain_type(\n",
    "    llm = llm, \n",
    "    chain_type = 'stuff', \n",
    "    retriever=retriever,\n",
    ")"
   ]
  },
  {
   "cell_type": "code",
   "execution_count": 50,
   "id": "f9b2224c",
   "metadata": {},
   "outputs": [
    {
     "name": "stdout",
     "output_type": "stream",
     "text": [
      "Based on the provided context, Amine's favorite series include:\n",
      "\n",
      "- Stranger Things (all-time favorite)\n",
      "- Game of Thrones\n",
      "- Alice in the Borderland\n",
      "- Teen Wolf\n"
     ]
    }
   ],
   "source": [
    "print(rag_chain.run(\"amine's favorite series ?\"))"
   ]
  },
  {
   "cell_type": "code",
   "execution_count": 51,
   "id": "db9a899f",
   "metadata": {},
   "outputs": [
    {
     "name": "stdout",
     "output_type": "stream",
     "text": [
      "Based on the context provided, Amine's Instagram handle is **@aminecanflyy**.\n"
     ]
    }
   ],
   "source": [
    "print(rag_chain.run(\"give me amine's instagram\"))"
   ]
  },
  {
   "cell_type": "code",
   "execution_count": 53,
   "id": "d3c5dc1d",
   "metadata": {},
   "outputs": [
    {
     "name": "stdout",
     "output_type": "stream",
     "text": [
      "Based on the context provided, Amine's favorite anime characters are:\n",
      "\n",
      "- Eren Jaeger (Attack on Titan)\n",
      "- Tanjiro Kamado (Demon Slayer)\n",
      "- Mikasa (Attack on Titan)\n",
      "- Erwin Smith (Attack on Titan)\n",
      "- Goku (Dragon Ball)\n",
      "- Android 18 (Dragon Ball)\n",
      "- Muichiro Tokito (Demon Slayer)\n",
      "\n",
      "These characters come from some of his favorite anime series, including *Attack on Titan*, *Demon Slayer*, and *Dragon Ball*.\n"
     ]
    }
   ],
   "source": [
    "print(rag_chain.run(\"give me some amine's favorite anime character\"))"
   ]
  },
  {
   "cell_type": "code",
   "execution_count": null,
   "id": "0025d961",
   "metadata": {},
   "outputs": [],
   "source": []
  }
 ],
 "metadata": {
  "kernelspec": {
   "display_name": "Python 3",
   "language": "python",
   "name": "python3"
  },
  "language_info": {
   "codemirror_mode": {
    "name": "ipython",
    "version": 3
   },
   "file_extension": ".py",
   "mimetype": "text/x-python",
   "name": "python",
   "nbconvert_exporter": "python",
   "pygments_lexer": "ipython3",
   "version": "3.13.2"
  }
 },
 "nbformat": 4,
 "nbformat_minor": 5
}
